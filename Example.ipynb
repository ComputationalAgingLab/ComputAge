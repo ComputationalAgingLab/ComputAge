{
 "cells": [
  {
   "cell_type": "markdown",
   "metadata": {},
   "source": [
    "## Download modules and data"
   ]
  },
  {
   "cell_type": "code",
   "execution_count": 1,
   "metadata": {},
   "outputs": [
    {
     "name": "stdout",
     "output_type": "stream",
     "text": [
      "Dataset GSE56581 saved to example_data\n"
     ]
    }
   ],
   "source": [
    "import os\n",
    "import pandas as pd\n",
    "import numpy as np\n",
    "from sklearn.metrics import r2_score, median_absolute_error\n",
    "from computage.utils.data_utils import download_meta, download_dataset\n",
    "from computage.models_library.model import LinearMethylationModel\n",
    "\n",
    "your_dir = 'example_data'\n",
    "example_datasetID = 'GSE56581'\n",
    "\n",
    "if not (os.path.isdir(your_dir) and os.path.exists(your_dir)) :\n",
    "    os.mkdir(your_dir)\n",
    "else:\n",
    "    pass    \n",
    "\n",
    "meta = download_meta('./meta_table_datasets.xlsx')\n",
    "download_dataset(meta, example_datasetID , your_dir)\n",
    "df = pd.read_pickle(os.path.join(your_dir,(example_datasetID +'.pkl.gz')))"
   ]
  },
  {
   "cell_type": "markdown",
   "metadata": {},
   "source": [
    "## Example with `phenoage` model, imputation by `average`"
   ]
  },
  {
   "cell_type": "markdown",
   "metadata": {},
   "source": [
    "### 1) Case with GSEID `GSE132203` from GEO database"
   ]
  },
  {
   "cell_type": "code",
   "execution_count": 2,
   "metadata": {},
   "outputs": [
    {
     "name": "stdout",
     "output_type": "stream",
     "text": [
      "5.86623691845945\n",
      "-0.028864712176694063\n"
     ]
    }
   ],
   "source": [
    "X = pd.DataFrame(df['data'])\n",
    "meta = pd.DataFrame(df['meta'])\n",
    "y = pd.DataFrame(meta['Age'])\n",
    "y_test = y.rename(columns={'Age': 'age'})\n",
    "\n",
    "\n",
    "model_phenoage = LinearMethylationModel(name='phenoage2018', imputation='average')\n",
    "y_pred_test = model_phenoage.predict(X)\n",
    "       \n",
    "print(median_absolute_error(y_test, y_pred_test))\n",
    "print(r2_score(y_test, y_pred_test))"
   ]
  },
  {
   "cell_type": "markdown",
   "metadata": {},
   "source": [
    "### 2) You can also use another model, just look at models list in README and past it's name. For instance, we will use `horvath2018`, with imputation `sesame450k`"
   ]
  },
  {
   "cell_type": "code",
   "execution_count": 6,
   "metadata": {},
   "outputs": [
    {
     "name": "stdout",
     "output_type": "stream",
     "text": [
      "7.460664066721552\n",
      "0.028181227416804733\n"
     ]
    }
   ],
   "source": [
    "model2 = LinearMethylationModel(name='horvath2018', imputation='sesame_450k')\n",
    "y_pred_test = model2.predict(X)\n",
    "       \n",
    "print(median_absolute_error(y_test, y_pred_test))\n",
    "print(r2_score(y_test, y_pred_test))"
   ]
  },
  {
   "cell_type": "markdown",
   "metadata": {},
   "source": [
    "### 2) New case, with `fill 0` imputation"
   ]
  },
  {
   "cell_type": "code",
   "execution_count": 8,
   "metadata": {},
   "outputs": [
    {
     "name": "stdout",
     "output_type": "stream",
     "text": [
      "5.35634155710521\n",
      "0.3568207949014057\n"
     ]
    }
   ],
   "source": [
    "#'fill 0'\n",
    "model3 = LinearMethylationModel(name='horvath2013_shrunken', imputation='none')\n",
    "y_pred_test = model3.predict(X)\n",
    "       \n",
    "print(median_absolute_error(y_test, y_pred_test))\n",
    "print(r2_score(y_test, y_pred_test))"
   ]
  }
 ],
 "metadata": {
  "kernelspec": {
   "display_name": "ComputAge",
   "language": "python",
   "name": "computage"
  },
  "language_info": {
   "codemirror_mode": {
    "name": "ipython",
    "version": 3
   },
   "file_extension": ".py",
   "mimetype": "text/x-python",
   "name": "python",
   "nbconvert_exporter": "python",
   "pygments_lexer": "ipython3",
   "version": "3.11.5"
  }
 },
 "nbformat": 4,
 "nbformat_minor": 2
}
